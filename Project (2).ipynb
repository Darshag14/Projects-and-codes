{
 "cells": [
  {
   "cell_type": "markdown",
   "id": "bac88783-78c7-4a54-9796-70ee5770e9f9",
   "metadata": {},
   "source": [
    "## AIT 614 - Big Data Essentials \n",
    "### Lab 2: NoSQL MongoDB with Python\n",
    "<hr>\n",
    "<b>Purpose for students to learn PyMongo for Data Science </b><br>\n",
    "Created by Dr. Liao<br>\n",
    "<hr>"
   ]
  },
  {
   "cell_type": "markdown",
   "id": "d25eeebc-629c-46ab-b63d-8a87e8d5637f",
   "metadata": {},
   "source": [
    "<b> Please type into your course section # and your full name: </b>\n",
    "##### Course Section #: 002\n",
    "##### Student's Full Name: Darsh Sandeep Agrawal\n",
    "<hr>"
   ]
  },
  {
   "cell_type": "markdown",
   "id": "27a516e1-d95c-454c-ab4b-1b6a9ae1fb5b",
   "metadata": {},
   "source": [
    "<b>Please follow Dr. Liao's code examples/tutorials to complete these tasks: </b>"
   ]
  },
  {
   "cell_type": "code",
   "execution_count": 1,
   "id": "db398153-8543-47e4-9ada-7d5ad5b12cae",
   "metadata": {},
   "outputs": [
    {
     "name": "stdout",
     "output_type": "stream",
     "text": [
      "Requirement already satisfied: pymongo in c:\\users\\darsh\\anaconda3\\lib\\site-packages (4.3.3)\n",
      "Requirement already satisfied: dnspython<3.0.0,>=1.16.0 in c:\\users\\darsh\\anaconda3\\lib\\site-packages (from pymongo) (2.3.0)\n"
     ]
    }
   ],
   "source": [
    "!pip install pymongo"
   ]
  },
  {
   "cell_type": "markdown",
   "id": "21fb9ff9-daf6-4260-ae3a-a5691ef19d32",
   "metadata": {},
   "source": [
    "#### Import Libaries"
   ]
  },
  {
   "cell_type": "code",
   "execution_count": 2,
   "id": "0b6e6659-a2d2-4ece-a548-9a7fba967299",
   "metadata": {},
   "outputs": [],
   "source": [
    "import pymongo\n",
    "import pandas as pd\n",
    "import json\n",
    "import matplotlib as mlt"
   ]
  },
  {
   "cell_type": "markdown",
   "id": "3e0788df-792a-4cee-a0b1-1c5b1658539a",
   "metadata": {},
   "source": [
    "#### Connect MongoDB "
   ]
  },
  {
   "cell_type": "code",
   "execution_count": 3,
   "id": "dc0fe9ed-22bb-408a-ab6c-32ddd1151c82",
   "metadata": {},
   "outputs": [],
   "source": [
    "client = pymongo.MongoClient(\"mongodb://localhost:27017/\")"
   ]
  },
  {
   "cell_type": "markdown",
   "id": "1c4fe535-aaeb-45e1-ba41-ef1863c09602",
   "metadata": {},
   "source": [
    "#### Load the CSV file"
   ]
  },
  {
   "cell_type": "code",
   "execution_count": 4,
   "id": "c976fff5-3158-4ee5-83ba-a066aa7d340c",
   "metadata": {},
   "outputs": [
    {
     "data": {
      "text/html": [
       "<div>\n",
       "<style scoped>\n",
       "    .dataframe tbody tr th:only-of-type {\n",
       "        vertical-align: middle;\n",
       "    }\n",
       "\n",
       "    .dataframe tbody tr th {\n",
       "        vertical-align: top;\n",
       "    }\n",
       "\n",
       "    .dataframe thead th {\n",
       "        text-align: right;\n",
       "    }\n",
       "</style>\n",
       "<table border=\"1\" class=\"dataframe\">\n",
       "  <thead>\n",
       "    <tr style=\"text-align: right;\">\n",
       "      <th></th>\n",
       "      <th>Age</th>\n",
       "      <th>Attrition</th>\n",
       "      <th>BusinessTravel</th>\n",
       "      <th>DailyRate</th>\n",
       "      <th>Department</th>\n",
       "      <th>DistanceFromHome</th>\n",
       "      <th>Education</th>\n",
       "      <th>EducationField</th>\n",
       "      <th>EmployeeCount</th>\n",
       "      <th>EmployeeNumber</th>\n",
       "      <th>...</th>\n",
       "      <th>RelationshipSatisfaction</th>\n",
       "      <th>StandardHours</th>\n",
       "      <th>StockOptionLevel</th>\n",
       "      <th>TotalWorkingYears</th>\n",
       "      <th>TrainingTimesLastYear</th>\n",
       "      <th>WorkLifeBalance</th>\n",
       "      <th>YearsAtCompany</th>\n",
       "      <th>YearsInCurrentRole</th>\n",
       "      <th>YearsSinceLastPromotion</th>\n",
       "      <th>YearsWithCurrManager</th>\n",
       "    </tr>\n",
       "  </thead>\n",
       "  <tbody>\n",
       "    <tr>\n",
       "      <th>0</th>\n",
       "      <td>41</td>\n",
       "      <td>Yes</td>\n",
       "      <td>Travel_Rarely</td>\n",
       "      <td>1102</td>\n",
       "      <td>Sales</td>\n",
       "      <td>1</td>\n",
       "      <td>2</td>\n",
       "      <td>Life Sciences</td>\n",
       "      <td>1</td>\n",
       "      <td>1</td>\n",
       "      <td>...</td>\n",
       "      <td>1</td>\n",
       "      <td>80</td>\n",
       "      <td>0</td>\n",
       "      <td>8</td>\n",
       "      <td>0</td>\n",
       "      <td>1</td>\n",
       "      <td>6</td>\n",
       "      <td>4</td>\n",
       "      <td>0</td>\n",
       "      <td>5</td>\n",
       "    </tr>\n",
       "    <tr>\n",
       "      <th>1</th>\n",
       "      <td>49</td>\n",
       "      <td>No</td>\n",
       "      <td>Travel_Frequently</td>\n",
       "      <td>279</td>\n",
       "      <td>Research &amp; Development</td>\n",
       "      <td>8</td>\n",
       "      <td>1</td>\n",
       "      <td>Life Sciences</td>\n",
       "      <td>1</td>\n",
       "      <td>2</td>\n",
       "      <td>...</td>\n",
       "      <td>4</td>\n",
       "      <td>80</td>\n",
       "      <td>1</td>\n",
       "      <td>10</td>\n",
       "      <td>3</td>\n",
       "      <td>3</td>\n",
       "      <td>10</td>\n",
       "      <td>7</td>\n",
       "      <td>1</td>\n",
       "      <td>7</td>\n",
       "    </tr>\n",
       "    <tr>\n",
       "      <th>2</th>\n",
       "      <td>37</td>\n",
       "      <td>Yes</td>\n",
       "      <td>Travel_Rarely</td>\n",
       "      <td>1373</td>\n",
       "      <td>Research &amp; Development</td>\n",
       "      <td>2</td>\n",
       "      <td>2</td>\n",
       "      <td>Other</td>\n",
       "      <td>1</td>\n",
       "      <td>4</td>\n",
       "      <td>...</td>\n",
       "      <td>2</td>\n",
       "      <td>80</td>\n",
       "      <td>0</td>\n",
       "      <td>7</td>\n",
       "      <td>3</td>\n",
       "      <td>3</td>\n",
       "      <td>0</td>\n",
       "      <td>0</td>\n",
       "      <td>0</td>\n",
       "      <td>0</td>\n",
       "    </tr>\n",
       "    <tr>\n",
       "      <th>3</th>\n",
       "      <td>33</td>\n",
       "      <td>No</td>\n",
       "      <td>Travel_Frequently</td>\n",
       "      <td>1392</td>\n",
       "      <td>Research &amp; Development</td>\n",
       "      <td>3</td>\n",
       "      <td>4</td>\n",
       "      <td>Life Sciences</td>\n",
       "      <td>1</td>\n",
       "      <td>5</td>\n",
       "      <td>...</td>\n",
       "      <td>3</td>\n",
       "      <td>80</td>\n",
       "      <td>0</td>\n",
       "      <td>8</td>\n",
       "      <td>3</td>\n",
       "      <td>3</td>\n",
       "      <td>8</td>\n",
       "      <td>7</td>\n",
       "      <td>3</td>\n",
       "      <td>0</td>\n",
       "    </tr>\n",
       "    <tr>\n",
       "      <th>4</th>\n",
       "      <td>27</td>\n",
       "      <td>No</td>\n",
       "      <td>Travel_Rarely</td>\n",
       "      <td>591</td>\n",
       "      <td>Research &amp; Development</td>\n",
       "      <td>2</td>\n",
       "      <td>1</td>\n",
       "      <td>Medical</td>\n",
       "      <td>1</td>\n",
       "      <td>7</td>\n",
       "      <td>...</td>\n",
       "      <td>4</td>\n",
       "      <td>80</td>\n",
       "      <td>1</td>\n",
       "      <td>6</td>\n",
       "      <td>3</td>\n",
       "      <td>3</td>\n",
       "      <td>2</td>\n",
       "      <td>2</td>\n",
       "      <td>2</td>\n",
       "      <td>2</td>\n",
       "    </tr>\n",
       "  </tbody>\n",
       "</table>\n",
       "<p>5 rows × 35 columns</p>\n",
       "</div>"
      ],
      "text/plain": [
       "   Age Attrition     BusinessTravel  DailyRate              Department  \\\n",
       "0   41       Yes      Travel_Rarely       1102                   Sales   \n",
       "1   49        No  Travel_Frequently        279  Research & Development   \n",
       "2   37       Yes      Travel_Rarely       1373  Research & Development   \n",
       "3   33        No  Travel_Frequently       1392  Research & Development   \n",
       "4   27        No      Travel_Rarely        591  Research & Development   \n",
       "\n",
       "   DistanceFromHome  Education EducationField  EmployeeCount  EmployeeNumber  \\\n",
       "0                 1          2  Life Sciences              1               1   \n",
       "1                 8          1  Life Sciences              1               2   \n",
       "2                 2          2          Other              1               4   \n",
       "3                 3          4  Life Sciences              1               5   \n",
       "4                 2          1        Medical              1               7   \n",
       "\n",
       "   ...  RelationshipSatisfaction StandardHours  StockOptionLevel  \\\n",
       "0  ...                         1            80                 0   \n",
       "1  ...                         4            80                 1   \n",
       "2  ...                         2            80                 0   \n",
       "3  ...                         3            80                 0   \n",
       "4  ...                         4            80                 1   \n",
       "\n",
       "   TotalWorkingYears  TrainingTimesLastYear WorkLifeBalance  YearsAtCompany  \\\n",
       "0                  8                      0               1               6   \n",
       "1                 10                      3               3              10   \n",
       "2                  7                      3               3               0   \n",
       "3                  8                      3               3               8   \n",
       "4                  6                      3               3               2   \n",
       "\n",
       "  YearsInCurrentRole  YearsSinceLastPromotion  YearsWithCurrManager  \n",
       "0                  4                        0                     5  \n",
       "1                  7                        1                     7  \n",
       "2                  0                        0                     0  \n",
       "3                  7                        3                     0  \n",
       "4                  2                        2                     2  \n",
       "\n",
       "[5 rows x 35 columns]"
      ]
     },
     "execution_count": 4,
     "metadata": {},
     "output_type": "execute_result"
    }
   ],
   "source": [
    "df = pd.read_csv(\"C:/Users/darsh/Downloads/EmployeeAttrition.csv\")\n",
    "df.head()"
   ]
  },
  {
   "cell_type": "code",
   "execution_count": 5,
   "id": "e6d15991",
   "metadata": {},
   "outputs": [
    {
     "data": {
      "text/html": [
       "<div>\n",
       "<style scoped>\n",
       "    .dataframe tbody tr th:only-of-type {\n",
       "        vertical-align: middle;\n",
       "    }\n",
       "\n",
       "    .dataframe tbody tr th {\n",
       "        vertical-align: top;\n",
       "    }\n",
       "\n",
       "    .dataframe thead th {\n",
       "        text-align: right;\n",
       "    }\n",
       "</style>\n",
       "<table border=\"1\" class=\"dataframe\">\n",
       "  <thead>\n",
       "    <tr style=\"text-align: right;\">\n",
       "      <th></th>\n",
       "      <th>Age</th>\n",
       "      <th>Attrition</th>\n",
       "      <th>BusinessTravel</th>\n",
       "      <th>DailyRate</th>\n",
       "      <th>Department</th>\n",
       "      <th>DistanceFromHome</th>\n",
       "      <th>Education</th>\n",
       "      <th>EducationField</th>\n",
       "      <th>EmployeeCount</th>\n",
       "      <th>EmployeeNumber</th>\n",
       "      <th>...</th>\n",
       "      <th>RelationshipSatisfaction</th>\n",
       "      <th>StandardHours</th>\n",
       "      <th>StockOptionLevel</th>\n",
       "      <th>TotalWorkingYears</th>\n",
       "      <th>TrainingTimesLastYear</th>\n",
       "      <th>WorkLifeBalance</th>\n",
       "      <th>YearsAtCompany</th>\n",
       "      <th>YearsInCurrentRole</th>\n",
       "      <th>YearsSinceLastPromotion</th>\n",
       "      <th>YearsWithCurrManager</th>\n",
       "    </tr>\n",
       "  </thead>\n",
       "  <tbody>\n",
       "    <tr>\n",
       "      <th>1465</th>\n",
       "      <td>36</td>\n",
       "      <td>No</td>\n",
       "      <td>Travel_Frequently</td>\n",
       "      <td>884</td>\n",
       "      <td>Research &amp; Development</td>\n",
       "      <td>23</td>\n",
       "      <td>2</td>\n",
       "      <td>Medical</td>\n",
       "      <td>1</td>\n",
       "      <td>2061</td>\n",
       "      <td>...</td>\n",
       "      <td>3</td>\n",
       "      <td>80</td>\n",
       "      <td>1</td>\n",
       "      <td>17</td>\n",
       "      <td>3</td>\n",
       "      <td>3</td>\n",
       "      <td>5</td>\n",
       "      <td>2</td>\n",
       "      <td>0</td>\n",
       "      <td>3</td>\n",
       "    </tr>\n",
       "    <tr>\n",
       "      <th>1466</th>\n",
       "      <td>39</td>\n",
       "      <td>No</td>\n",
       "      <td>Travel_Rarely</td>\n",
       "      <td>613</td>\n",
       "      <td>Research &amp; Development</td>\n",
       "      <td>6</td>\n",
       "      <td>1</td>\n",
       "      <td>Medical</td>\n",
       "      <td>1</td>\n",
       "      <td>2062</td>\n",
       "      <td>...</td>\n",
       "      <td>1</td>\n",
       "      <td>80</td>\n",
       "      <td>1</td>\n",
       "      <td>9</td>\n",
       "      <td>5</td>\n",
       "      <td>3</td>\n",
       "      <td>7</td>\n",
       "      <td>7</td>\n",
       "      <td>1</td>\n",
       "      <td>7</td>\n",
       "    </tr>\n",
       "    <tr>\n",
       "      <th>1467</th>\n",
       "      <td>27</td>\n",
       "      <td>No</td>\n",
       "      <td>Travel_Rarely</td>\n",
       "      <td>155</td>\n",
       "      <td>Research &amp; Development</td>\n",
       "      <td>4</td>\n",
       "      <td>3</td>\n",
       "      <td>Life Sciences</td>\n",
       "      <td>1</td>\n",
       "      <td>2064</td>\n",
       "      <td>...</td>\n",
       "      <td>2</td>\n",
       "      <td>80</td>\n",
       "      <td>1</td>\n",
       "      <td>6</td>\n",
       "      <td>0</td>\n",
       "      <td>3</td>\n",
       "      <td>6</td>\n",
       "      <td>2</td>\n",
       "      <td>0</td>\n",
       "      <td>3</td>\n",
       "    </tr>\n",
       "    <tr>\n",
       "      <th>1468</th>\n",
       "      <td>49</td>\n",
       "      <td>No</td>\n",
       "      <td>Travel_Frequently</td>\n",
       "      <td>1023</td>\n",
       "      <td>Sales</td>\n",
       "      <td>2</td>\n",
       "      <td>3</td>\n",
       "      <td>Medical</td>\n",
       "      <td>1</td>\n",
       "      <td>2065</td>\n",
       "      <td>...</td>\n",
       "      <td>4</td>\n",
       "      <td>80</td>\n",
       "      <td>0</td>\n",
       "      <td>17</td>\n",
       "      <td>3</td>\n",
       "      <td>2</td>\n",
       "      <td>9</td>\n",
       "      <td>6</td>\n",
       "      <td>0</td>\n",
       "      <td>8</td>\n",
       "    </tr>\n",
       "    <tr>\n",
       "      <th>1469</th>\n",
       "      <td>34</td>\n",
       "      <td>No</td>\n",
       "      <td>Travel_Rarely</td>\n",
       "      <td>628</td>\n",
       "      <td>Research &amp; Development</td>\n",
       "      <td>8</td>\n",
       "      <td>3</td>\n",
       "      <td>Medical</td>\n",
       "      <td>1</td>\n",
       "      <td>2068</td>\n",
       "      <td>...</td>\n",
       "      <td>1</td>\n",
       "      <td>80</td>\n",
       "      <td>0</td>\n",
       "      <td>6</td>\n",
       "      <td>3</td>\n",
       "      <td>4</td>\n",
       "      <td>4</td>\n",
       "      <td>3</td>\n",
       "      <td>1</td>\n",
       "      <td>2</td>\n",
       "    </tr>\n",
       "  </tbody>\n",
       "</table>\n",
       "<p>5 rows × 35 columns</p>\n",
       "</div>"
      ],
      "text/plain": [
       "      Age Attrition     BusinessTravel  DailyRate              Department  \\\n",
       "1465   36        No  Travel_Frequently        884  Research & Development   \n",
       "1466   39        No      Travel_Rarely        613  Research & Development   \n",
       "1467   27        No      Travel_Rarely        155  Research & Development   \n",
       "1468   49        No  Travel_Frequently       1023                   Sales   \n",
       "1469   34        No      Travel_Rarely        628  Research & Development   \n",
       "\n",
       "      DistanceFromHome  Education EducationField  EmployeeCount  \\\n",
       "1465                23          2        Medical              1   \n",
       "1466                 6          1        Medical              1   \n",
       "1467                 4          3  Life Sciences              1   \n",
       "1468                 2          3        Medical              1   \n",
       "1469                 8          3        Medical              1   \n",
       "\n",
       "      EmployeeNumber  ...  RelationshipSatisfaction StandardHours  \\\n",
       "1465            2061  ...                         3            80   \n",
       "1466            2062  ...                         1            80   \n",
       "1467            2064  ...                         2            80   \n",
       "1468            2065  ...                         4            80   \n",
       "1469            2068  ...                         1            80   \n",
       "\n",
       "      StockOptionLevel  TotalWorkingYears  TrainingTimesLastYear  \\\n",
       "1465                 1                 17                      3   \n",
       "1466                 1                  9                      5   \n",
       "1467                 1                  6                      0   \n",
       "1468                 0                 17                      3   \n",
       "1469                 0                  6                      3   \n",
       "\n",
       "     WorkLifeBalance  YearsAtCompany YearsInCurrentRole  \\\n",
       "1465               3               5                  2   \n",
       "1466               3               7                  7   \n",
       "1467               3               6                  2   \n",
       "1468               2               9                  6   \n",
       "1469               4               4                  3   \n",
       "\n",
       "      YearsSinceLastPromotion  YearsWithCurrManager  \n",
       "1465                        0                     3  \n",
       "1466                        1                     7  \n",
       "1467                        0                     3  \n",
       "1468                        0                     8  \n",
       "1469                        1                     2  \n",
       "\n",
       "[5 rows x 35 columns]"
      ]
     },
     "execution_count": 5,
     "metadata": {},
     "output_type": "execute_result"
    }
   ],
   "source": [
    "df.tail()"
   ]
  },
  {
   "cell_type": "code",
   "execution_count": 6,
   "id": "153d40e6",
   "metadata": {},
   "outputs": [
    {
     "data": {
      "text/plain": [
       "(1470, 35)"
      ]
     },
     "execution_count": 6,
     "metadata": {},
     "output_type": "execute_result"
    }
   ],
   "source": [
    "df.shape"
   ]
  },
  {
   "cell_type": "markdown",
   "id": "a29fb50c-a38e-473e-a510-99fa420e4e5f",
   "metadata": {},
   "source": [
    "#### convert to Json"
   ]
  },
  {
   "cell_type": "code",
   "execution_count": 7,
   "id": "28416e61-60c1-43ae-ad35-12289c2f3f5e",
   "metadata": {},
   "outputs": [],
   "source": [
    "conv_data = json.loads(df.to_json(orient='records'))"
   ]
  },
  {
   "cell_type": "markdown",
   "id": "4a029890-0088-4aeb-ae78-9a94d3e499df",
   "metadata": {},
   "source": [
    "#### Creating a Database"
   ]
  },
  {
   "cell_type": "code",
   "execution_count": 8,
   "id": "09343017-2404-4734-9e25-c90eaa49b690",
   "metadata": {},
   "outputs": [
    {
     "data": {
      "text/plain": [
       "Database(MongoClient(host=['localhost:27017'], document_class=dict, tz_aware=False, connect=True), 'EmpDB')"
      ]
     },
     "execution_count": 8,
     "metadata": {},
     "output_type": "execute_result"
    }
   ],
   "source": [
    "mongo_db = client[\"EmpDB\"]\n",
    "mongo_db"
   ]
  },
  {
   "cell_type": "markdown",
   "id": "1fee5c3a-26f3-4262-a60a-ff3d8534e5d5",
   "metadata": {},
   "source": [
    "#### Create a Collection"
   ]
  },
  {
   "cell_type": "code",
   "execution_count": 9,
   "id": "9a0a2f08-a9c0-4a89-8836-94074cebf74e",
   "metadata": {},
   "outputs": [],
   "source": [
    "collection_name = \"Employee\""
   ]
  },
  {
   "cell_type": "markdown",
   "id": "569a00a0-ca43-4d5b-9ea1-eaf745141c47",
   "metadata": {},
   "source": [
    "#### Insert the data into MongoDB Collection "
   ]
  },
  {
   "cell_type": "code",
   "execution_count": 10,
   "id": "95d4e88d-e5c1-4211-a330-9eb3b12c57d1",
   "metadata": {},
   "outputs": [
    {
     "data": {
      "text/plain": [
       "<pymongo.results.InsertManyResult at 0x25cf95f8cd0>"
      ]
     },
     "execution_count": 10,
     "metadata": {},
     "output_type": "execute_result"
    }
   ],
   "source": [
    "collection = mongo_db[collection_name]\n",
    "collection.insert_many(conv_data)"
   ]
  },
  {
   "cell_type": "code",
   "execution_count": 11,
   "id": "1560297f",
   "metadata": {},
   "outputs": [
    {
     "data": {
      "text/plain": [
       "1470"
      ]
     },
     "execution_count": 11,
     "metadata": {},
     "output_type": "execute_result"
    }
   ],
   "source": [
    "collection.count_documents({})"
   ]
  },
  {
   "cell_type": "markdown",
   "id": "8631dfb2-4e32-4fea-9578-a0541fa7fad1",
   "metadata": {},
   "source": [
    "#### Query MongoDB"
   ]
  },
  {
   "cell_type": "markdown",
   "id": "80ca5d95-28fd-4e6b-865f-6850ecefae06",
   "metadata": {},
   "source": [
    "##### 1. Count the employees whose TotalWorkingYears are greater than 20."
   ]
  },
  {
   "cell_type": "code",
   "execution_count": 12,
   "id": "6b6f9ef5-79cf-486d-865d-2167e4e98578",
   "metadata": {},
   "outputs": [
    {
     "data": {
      "text/plain": [
       "207"
      ]
     },
     "execution_count": 12,
     "metadata": {},
     "output_type": "execute_result"
    }
   ],
   "source": [
    "collection.count_documents(\n",
    "    {\"TotalWorkingYears\": {'$gt': 20}}\n",
    ")"
   ]
  },
  {
   "cell_type": "markdown",
   "id": "6732e99f-a07d-4991-b14d-bfc831cda180",
   "metadata": {},
   "source": [
    "##### 2. Find EmployeeNumber, EducationField, JobRole for all the employees whose Age is between 25 and 30 and Education is 5. Display only EmployeeNumber, EducationField, and JobRobe in the output."
   ]
  },
  {
   "cell_type": "code",
   "execution_count": 13,
   "id": "fd30a490-7cfb-43eb-bdbe-91305555084d",
   "metadata": {},
   "outputs": [
    {
     "name": "stdout",
     "output_type": "stream",
     "text": [
      "Employee Number \t\t Education Field \t\t Job Role\n",
      "-------------------------------------------------------------------------------------------------\n",
      "455\t\t\t\tOther\t\t\t\tLaboratory Technician\n",
      "565\t\t\t\tTechnical Degree\t\t\t\tResearch Scientist\n",
      "747\t\t\t\tMarketing\t\t\t\tSales Executive\n",
      "1094\t\t\t\tLife Sciences\t\t\t\tLaboratory Technician\n"
     ]
    }
   ],
   "source": [
    "employees = collection.find(\n",
    "    {'$and' : [ \n",
    "    { \"Age\": {\"$lte\": 30}},\n",
    "    { \"Age\": {\"$gte\": 25}},\n",
    "    {\"Education\" : 5},\n",
    "    ]},\n",
    ")\n",
    "\n",
    "# print formatted outputs\n",
    "print('Employee Number', '\\t\\t', 'Education Field', '\\t\\t', 'Job Role')\n",
    "print('-------------------------------------------------------------------------------------------------')\n",
    "for em in employees:\n",
    "    print('{0}\\t\\t\\t\\t{1}\\t\\t\\t\\t{2}'.format(em['EmployeeNumber'], em['EducationField'],em['JobRole']))"
   ]
  },
  {
   "cell_type": "markdown",
   "id": "b9bf68aa-4c1c-4368-b645-9faa547f9ba9",
   "metadata": {},
   "source": [
    "##### 3. For all the women employees having Age between 35 and 40 and TotalWorkingYears < 5, sort EmployeeNumber in an ascending order. Print only Department and EmployeeNumber in the output. "
   ]
  },
  {
   "cell_type": "code",
   "execution_count": 14,
   "id": "d2573e57-5145-4294-baa8-dd85c98462db",
   "metadata": {},
   "outputs": [
    {
     "name": "stdout",
     "output_type": "stream",
     "text": [
      "Employee Number \t\t Department\n",
      "-----------------------------------------\n",
      "49\t\t\t\tSales\n",
      "75\t\t\t\tResearch & Development\n",
      "245\t\t\t\tResearch & Development\n",
      "805\t\t\t\tSales\n",
      "1569\t\t\t\tResearch & Development\n",
      "1662\t\t\t\tResearch & Development\n",
      "1675\t\t\t\tResearch & Development\n",
      "1886\t\t\t\tResearch & Development\n",
      "2052\t\t\t\tResearch & Development\n"
     ]
    }
   ],
   "source": [
    "employees = collection.find(\n",
    "    {\"$and\": [\n",
    "    {\"Age\": {\"$gte\": 35}},\n",
    "    {\"Age\": {\"$lte\": 40}},\n",
    "    {\"TotalWorkingYears\": {\"$lt\": 5}},\n",
    "    {\"Gender\": \"Female\"}\n",
    "    ]}\n",
    ").sort('EmployeeNumber',1)\n",
    "\n",
    "#print_formatted_outputs\n",
    "print('Employee Number', '\\t\\t', 'Department')\n",
    "print('-----------------------------------------')\n",
    "for em in employees:\n",
    "    print('{0}\\t\\t\\t\\t{1}'.format(em['EmployeeNumber'], em['Department']))"
   ]
  },
  {
   "cell_type": "markdown",
   "id": "56b94656-ce30-417f-b064-fa9a666dde38",
   "metadata": {},
   "source": [
    "##### 4. Find employees whose HourlyRate is greater than or equal to 100 or DailyRate is greater than 1490. Display Age, HourlyRate, DailyRate, and Department only and sort DailyRate in an ascending order.  "
   ]
  },
  {
   "cell_type": "code",
   "execution_count": 15,
   "id": "ae0b2969-5269-40f4-9fce-8e6ebfc783b6",
   "metadata": {},
   "outputs": [
    {
     "name": "stdout",
     "output_type": "stream",
     "text": [
      "Age \t\t\t\t HourlyRate \t\t DailyRate \t\t Department\n",
      "----------------------------------------------------------------------------------------------------\n",
      "31\t\t\t\t100\t\t\t218\t\t\tSales\n",
      "29\t\t\t\t100\t\t\t224\t\t\tResearch & Development\n",
      "45\t\t\t\t100\t\t\t306\t\t\tSales\n",
      "38\t\t\t\t100\t\t\t345\t\t\tSales\n",
      "35\t\t\t\t100\t\t\t528\t\t\tHuman Resources\n",
      "22\t\t\t\t100\t\t\t594\t\t\tResearch & Development\n",
      "19\t\t\t\t100\t\t\t602\t\t\tSales\n",
      "26\t\t\t\t100\t\t\t652\t\t\tResearch & Development\n",
      "34\t\t\t\t100\t\t\t702\t\t\tResearch & Development\n",
      "32\t\t\t\t100\t\t\t976\t\t\tSales\n",
      "21\t\t\t\t100\t\t\t996\t\t\tResearch & Development\n",
      "37\t\t\t\t100\t\t\t1040\t\t\tResearch & Development\n",
      "50\t\t\t\t100\t\t\t1046\t\t\tResearch & Development\n",
      "36\t\t\t\t100\t\t\t1120\t\t\tSales\n",
      "33\t\t\t\t100\t\t\t1198\t\t\tResearch & Development\n",
      "32\t\t\t\t100\t\t\t1311\t\t\tResearch & Development\n",
      "38\t\t\t\t100\t\t\t1336\t\t\tHuman Resources\n",
      "31\t\t\t\t100\t\t\t1445\t\t\tResearch & Development\n",
      "40\t\t\t\t100\t\t\t1479\t\t\tSales\n",
      "40\t\t\t\t61\t\t\t1492\t\t\tResearch & Development\n",
      "38\t\t\t\t76\t\t\t1495\t\t\tResearch & Development\n",
      "49\t\t\t\t96\t\t\t1495\t\t\tResearch & Development\n",
      "38\t\t\t\t87\t\t\t1495\t\t\tResearch & Development\n",
      "29\t\t\t\t41\t\t\t1496\t\t\tResearch & Development\n",
      "28\t\t\t\t92\t\t\t1496\t\t\tSales\n",
      "39\t\t\t\t44\t\t\t1498\t\t\tSales\n",
      "60\t\t\t\t80\t\t\t1499\t\t\tSales\n"
     ]
    }
   ],
   "source": [
    "employees1 = collection.find(\n",
    "    {\"$or\": [\n",
    "    {\"HourlyRate\": {\"$gte\": 100}},\n",
    "    {\"DailyRate\": {\"$gt\": 1490}},\n",
    "    ]}\n",
    ").sort('DailyRate')\n",
    "\n",
    "#print_formatted_outputs\n",
    "print('Age', '\\t\\t\\t\\t', 'HourlyRate', '\\t\\t', 'DailyRate', '\\t\\t', 'Department')\n",
    "print('----------------------------------------------------------------------------------------------------')\n",
    "for em in employees1:\n",
    "    print('{0}\\t\\t\\t\\t{1}\\t\\t\\t{2}\\t\\t\\t{3}'.format(em['Age'], em['HourlyRate'], em['DailyRate'], em['Department']))"
   ]
  },
  {
   "cell_type": "markdown",
   "id": "e4d44246-3ea0-4c32-8a70-6fdc23e1b24b",
   "metadata": {},
   "source": [
    "##### 5. For each JobRole, find the average MonthlyIncome. Print out the formatted monthly incomes in hundredth and arrange them in descending order."
   ]
  },
  {
   "cell_type": "code",
   "execution_count": 16,
   "id": "13e368ff-b7c2-4e8e-8c3d-e1c54bfba532",
   "metadata": {},
   "outputs": [
    {
     "name": "stdout",
     "output_type": "stream",
     "text": [
      "Job Role \t\t\t Average Monthly Income\n",
      "-------------------------------------------------------------\n",
      "Manager \t\t\t 17181.68\n",
      "Research Director \t\t\t 16033.55\n",
      "Healthcare Representative \t\t\t 7528.76\n",
      "Manufacturing Director \t\t\t 7295.14\n",
      "Sales Executive \t\t\t 6924.28\n",
      "Human Resources \t\t\t 4235.75\n",
      "Research Scientist \t\t\t 3239.97\n",
      "Laboratory Technician \t\t\t 3237.17\n",
      "Sales Representative \t\t\t 2626.00\n"
     ]
    }
   ],
   "source": [
    "inc = collection.aggregate([\n",
    "    {\"$group\" : {\n",
    "        \"_id\" : \"$JobRole\",  \n",
    "        \"avg_monthly_income\" : {\"$avg\" : '$MonthlyIncome'}\n",
    "    }},\n",
    "    {\"$sort\" : {\n",
    "        \"avg_monthly_income\": -1}\n",
    "    }\n",
    "])\n",
    "\n",
    "# print formatted outputs\n",
    "print('Job Role', '\\t\\t\\t', 'Average Monthly Income')\n",
    "print('-------------------------------------------------------------')\n",
    "for x in inc:\n",
    "    print(x['_id'],'\\t\\t\\t','{:.2f}'.format(x['avg_monthly_income']))"
   ]
  },
  {
   "cell_type": "markdown",
   "id": "f0bdadc8-eb7f-4e37-a686-dd9b072ca981",
   "metadata": {},
   "source": [
    "##### 6. Count the different MaritalStatus when Attrition is YES and AGE is greater than 35 in the dataset. Arrange the count in descending order."
   ]
  },
  {
   "cell_type": "code",
   "execution_count": 17,
   "id": "0d30eb9b-9352-47df-a6b9-3dd9bfc6b2d7",
   "metadata": {},
   "outputs": [
    {
     "data": {
      "text/plain": [
       "[{'_id': 'Married', 'count': 33},\n",
       " {'_id': 'Single', 'count': 30},\n",
       " {'_id': 'Divorced', 'count': 14}]"
      ]
     },
     "execution_count": 17,
     "metadata": {},
     "output_type": "execute_result"
    }
   ],
   "source": [
    "mstat = collection.aggregate([\n",
    "    {'$match': {\n",
    "        'Attrition': 'Yes',\n",
    "        'Age': {'$gt': 35}  \n",
    "       \n",
    "    }}, \n",
    "    {\"$group\" : { \n",
    "        \"_id\" : \"$MaritalStatus\",  \n",
    "        \"count\": {'$sum': 1}\n",
    "    }},\n",
    "    {\"$sort\" : {\n",
    "        \"count\": -1}\n",
    "    }\n",
    "])\n",
    "list(mstat)"
   ]
  },
  {
   "cell_type": "markdown",
   "id": "c7e7daf1-eaea-4965-9e61-e00a8a4bd656",
   "metadata": {},
   "source": [
    "#### Delete All Documents in a Collection"
   ]
  },
  {
   "cell_type": "code",
   "execution_count": 18,
   "id": "8a1590ed-55f2-4fbb-a581-9a6c8f4af0a6",
   "metadata": {},
   "outputs": [
    {
     "name": "stdout",
     "output_type": "stream",
     "text": [
      "1470 documents deleted.\n"
     ]
    }
   ],
   "source": [
    "coll_del = collection.delete_many({})\n",
    "print(coll_del.deleted_count, \"documents deleted.\")"
   ]
  },
  {
   "cell_type": "markdown",
   "id": "f52109ff-4a39-42a6-9d06-fd34152bd551",
   "metadata": {},
   "source": [
    "#### Delete the Collection"
   ]
  },
  {
   "cell_type": "code",
   "execution_count": 19,
   "id": "85ce1d5c-4e76-484f-b4f8-30973b0323b3",
   "metadata": {},
   "outputs": [],
   "source": [
    "collection.drop()"
   ]
  },
  {
   "cell_type": "markdown",
   "id": "a2115972-88fa-44b3-801e-5e1b7c69560c",
   "metadata": {},
   "source": [
    "<b>References</b>\n",
    "1. Dr. Liao's Code Examples and Tutorials- https://mymasonportal.gmu.edu/bbcswebdav/pid-16629398-dt-content-rid-271922184_1/courses/24452.202310/Liao_pymongo.html\n",
    "2. PyMongo Documentations: https://pymongo.readthedocs.io/en/stable/\n",
    "3. Python MongoDB: https://www.w3schools.com/python/python_mongodb_getstarted.asp\n",
    "4. MongoDB Toturials: https://docs.mongodb.com/manual/tutorial/ </b>\n"
   ]
  },
  {
   "cell_type": "code",
   "execution_count": null,
   "id": "3d79dbb5-b941-4a5d-bd5a-731be4a2d6bd",
   "metadata": {},
   "outputs": [],
   "source": []
  }
 ],
 "metadata": {
  "kernelspec": {
   "display_name": "Python 3 (ipykernel)",
   "language": "python",
   "name": "python3"
  },
  "language_info": {
   "codemirror_mode": {
    "name": "ipython",
    "version": 3
   },
   "file_extension": ".py",
   "mimetype": "text/x-python",
   "name": "python",
   "nbconvert_exporter": "python",
   "pygments_lexer": "ipython3",
   "version": "3.9.7"
  }
 },
 "nbformat": 4,
 "nbformat_minor": 5
}
